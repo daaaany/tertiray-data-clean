{
 "cells": [
  {
   "cell_type": "code",
   "execution_count": null,
   "id": "ae1f9592",
   "metadata": {},
   "outputs": [],
   "source": [
    "import pandas as pd\n",
    "\n",
    "def process_data(input_file, output_file):\n",
    "    # Read the input CSV into a DataFrame\n",
    "    df = pd.read_csv(input_file)\n",
    "\n",
    "    # Rename columns\n",
    "    df = df.rename(columns={\"Calendar day\": \"Calendar_Day\", \"Tertiary Quantity\": \"Tertiary_Quantity\"})\n",
    "\n",
    "    # Select specific columns\n",
    "    df = df[[\"Calendar_Day\", \"Actual_Model_Name\", \"Category\", \"Business\", \"Remarks\", \"Tertiary_Quantity\"]]\n",
    "\n",
    "    # Filter rows based on 'Remarks' column\n",
    "    df = df[(df.Remarks == 'CBU') | (df.Remarks == 'SKD')]\n",
    "\n",
    "    # Reset the index\n",
    "    df = df.reset_index(drop=True)\n",
    "\n",
    "    # Define name changes dictionary\n",
    "    name_change = {\n",
    "        \"LAVA_A1Colors_MF\": \"LAVA_A1\",\n",
    "        \"LAVA PULSE_MF\": \"A7_BT_PULSE\",\n",
    "        \"LAVA_A7_2020_MF\": \"LF7000_A7\",\n",
    "        \"LAVA_A1WAVE_MF\": \"LAVA_A1\",\n",
    "        \"LAVA_A7WAVE_MF\": \"LAVA_A7\",\n",
    "        \"LAVA_A9WAVE_MF\": \"LAVA_A9\",\n",
    "        \"LF5000_A5WAVE_MF\": \"LF5000_A5\",\n",
    "        \"A1_JOSH2021_MF\": \"A1_JOSH2021\",\n",
    "        \"A1_JOSH2021_New_MF\": \"A1_JOSH2021\",\n",
    "        \"LF1000_A1_2021_MF\": \"LF1000_A1_2021\",\n",
    "        \"LF1000_A1_2021_New_MF\": \"LF1000_A1_2021\",\n",
    "        \"A1_TAMIL_VIBE\": \"LF1008_A1_VIBE\"\n",
    "    }\n",
    "\n",
    "    # Replace values in 'Actual_Model_Name' column using the name_change dictionary\n",
    "    df['Actual_Model_Name'] = df['Actual_Model_Name'].replace(name_change)\n",
    "\n",
    "    # Convert 'Calendar_Day' to datetime\n",
    "    df['Calendar_Day'] = pd.to_datetime(df['Calendar_Day'])\n",
    "\n",
    "    # Modify 'Calendar_Day' to set the day to 1\n",
    "    df['Calendar_Day'] = pd.to_datetime(pd.DataFrame({\n",
    "        'day': 1,\n",
    "        'month': df['Calendar_Day'].dt.month,\n",
    "        'year': df['Calendar_Day'].dt.year\n",
    "    }, index=df.index))\n",
    "\n",
    "    # Remove \"_MF\" from 'Actual_Model_Name'\n",
    "    df['Actual_Model_Name'] = df['Actual_Model_Name'].str.replace(\"_MF\", \"\")\n",
    "\n",
    "    # Save the processed data to the output file\n",
    "    df.to_csv(output_file, index=False)\n",
    "\n",
    "# Call the function with your input and output file paths\n",
    "process_data('tertiaryData.csv', 'tertiaryData_for_KumarReport.csv')"
   ]
  }
 ],
 "metadata": {
  "kernelspec": {
   "display_name": "Python 3 (ipykernel)",
   "language": "python",
   "name": "python3"
  },
  "language_info": {
   "codemirror_mode": {
    "name": "ipython",
    "version": 3
   },
   "file_extension": ".py",
   "mimetype": "text/x-python",
   "name": "python",
   "nbconvert_exporter": "python",
   "pygments_lexer": "ipython3",
   "version": "3.11.4"
  }
 },
 "nbformat": 4,
 "nbformat_minor": 5
}
